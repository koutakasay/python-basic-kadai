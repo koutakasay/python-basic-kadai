{
  "nbformat": 4,
  "nbformat_minor": 0,
  "metadata": {
    "colab": {
      "provenance": []
    },
    "kernelspec": {
      "name": "python3",
      "display_name": "Python 3"
    },
    "language_info": {
      "name": "python"
    }
  },
  "cells": [
    {
      "cell_type": "code",
      "execution_count": 24,
      "metadata": {
        "colab": {
          "base_uri": "https://localhost:8080/"
        },
        "id": "rynjKUuAyzfh",
        "outputId": "53de63f4-8d24-4f55-e389-328a2fadf312"
      },
      "outputs": [
        {
          "output_type": "stream",
          "name": "stdout",
          "text": [
            "Alex is a child.\n",
            "Brian is an adult.\n",
            "Chloe is an adult.\n",
            "Daisy is an adult.\n",
            "Ellen is an adult.\n"
          ]
        }
      ],
      "source": [
        "check_humans = {\"Alex\":13,\"Brian\":22, \"Chloe\":63, \"Daisy\":31, \"Ellen\":55}\n",
        "class Human:\n",
        "  def __init__(self, name, age):\n",
        "    self.name = name\n",
        "    self.age = age\n",
        "\n",
        "  def check_adult(self):\n",
        "      if self.age >= 20:\n",
        "        print(f\"{self.name} is an adult.\")\n",
        "      else:\n",
        "        print(f\"{self.name} is a child.\")\n",
        "\n",
        "check_list = []\n",
        "\n",
        "for name, age in check_humans.items():\n",
        "  human = Human(name, age)\n",
        "  check_list.append(human)\n",
        "\n",
        "for human in check_list:\n",
        "  human.check_adult()"
      ]
    }
  ]
}