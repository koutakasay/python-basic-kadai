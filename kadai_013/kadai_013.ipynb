{
  "nbformat": 4,
  "nbformat_minor": 0,
  "metadata": {
    "colab": {
      "provenance": []
    },
    "kernelspec": {
      "name": "python3",
      "display_name": "Python 3"
    },
    "language_info": {
      "name": "python"
    }
  },
  "cells": [
    {
      "cell_type": "code",
      "execution_count": 1,
      "metadata": {
        "colab": {
          "base_uri": "https://localhost:8080/"
        },
        "id": "694N7IkrSH6A",
        "outputId": "78338f7b-05e5-465f-b352-b7869acbd8b9"
      },
      "outputs": [
        {
          "output_type": "stream",
          "name": "stdout",
          "text": [
            "税込み価格は550.0円です。\n"
          ]
        }
      ],
      "source": [
        "purchased = 500\n",
        "tax = 1.1\n",
        "\n",
        "def is_shopping():\n",
        "  if (purchased > 0):\n",
        "    return purchased * tax\n",
        "\n",
        "print(f\"税込み価格は{is_shopping()}円です。\")"
      ]
    }
  ]
}