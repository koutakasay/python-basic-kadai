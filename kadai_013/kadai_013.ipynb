{
  "nbformat": 4,
  "nbformat_minor": 0,
  "metadata": {
    "colab": {
      "provenance": []
    },
    "kernelspec": {
      "name": "python3",
      "display_name": "Python 3"
    },
    "language_info": {
      "name": "python"
    }
  },
  "cells": [
    {
      "cell_type": "code",
      "execution_count": 3,
      "metadata": {
        "colab": {
          "base_uri": "https://localhost:8080/"
        },
        "id": "694N7IkrSH6A",
        "outputId": "a7359ebe-c59c-44d4-a89e-7df59c2e40fa"
      },
      "outputs": [
        {
          "output_type": "stream",
          "name": "stdout",
          "text": [
            "税込み価格は550.0円です。\n"
          ]
        }
      ],
      "source": [
        "def is_shopping(purchased, tax):\n",
        "  if (purchased > 0):\n",
        "    total = purchased * tax\n",
        "    return total\n",
        "\n",
        "price = is_shopping(500, 1.1)\n",
        "print(f\"税込み価格は{price}円です。\")"
      ]
    }
  ]
}