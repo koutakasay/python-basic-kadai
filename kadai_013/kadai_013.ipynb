{
  "nbformat": 4,
  "nbformat_minor": 0,
  "metadata": {
    "colab": {
      "provenance": []
    },
    "kernelspec": {
      "name": "python3",
      "display_name": "Python 3"
    },
    "language_info": {
      "name": "python"
    }
  },
  "cells": [
    {
      "cell_type": "code",
      "execution_count": 4,
      "metadata": {
        "colab": {
          "base_uri": "https://localhost:8080/"
        },
        "id": "694N7IkrSH6A",
        "outputId": "3ad11028-acd2-4281-fcdd-59e70b98071f"
      },
      "outputs": [
        {
          "output_type": "stream",
          "name": "stdout",
          "text": [
            "税込み価格は1100.0円です。\n"
          ]
        }
      ],
      "source": [
        "def is_shopping(merchandise, tax):\n",
        "  total = merchandise * tax\n",
        "  print(f\"税込み価格は{total}円です。\")\n",
        "\n",
        "is_shopping(1000, 1.1)"
      ]
    }
  ]
}